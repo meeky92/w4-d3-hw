{
 "cells": [
  {
   "cell_type": "markdown",
   "metadata": {},
   "source": [
    "# Classic Algorithms"
   ]
  },
  {
   "cell_type": "markdown",
   "metadata": {},
   "source": [
    "## Tasks Today:\n",
    " \n",
    "1) <b>In-Place Algorithms</b> <br>\n",
    " &nbsp;&nbsp;&nbsp;&nbsp; a) Syntax <br>\n",
    " &nbsp;&nbsp;&nbsp;&nbsp; a) Out of Place Algorithm <br>\n",
    " &nbsp;&nbsp;&nbsp;&nbsp; b) In-Class Exercise #1 <br>\n",
    "2) <b>Two Pointers</b> <br>\n",
    "3) <b>Sorting Algorithms</b> <br>\n",
    "4) <b>Merge Sort</b> <br>\n",
    " &nbsp;&nbsp;&nbsp;&nbsp; a) Video on Algorithms <br>\n",
    " &nbsp;&nbsp;&nbsp;&nbsp; b) How it Works <br>\n",
    "5) <b>Exercises</b> <br>\n",
    " &nbsp;&nbsp;&nbsp;&nbsp; a) Exercise #1 - Reverse a List in Place Using an In-Place Algorithm <br>\n",
    " &nbsp;&nbsp;&nbsp;&nbsp; b) Exercise #2 - Find Distinct Words <br>\n",
    " &nbsp;&nbsp;&nbsp;&nbsp; c) Exercise #3 - Write a program to implement a Linear Search Algorithm. <br>"
   ]
  },
  {
   "cell_type": "code",
   "execution_count": 1,
   "metadata": {},
   "outputs": [
    {
     "name": "stdout",
     "output_type": "stream",
     "text": [
      "0\n"
     ]
    }
   ],
   "source": [
    "def find_first_index(a_list):\n",
    "    return a_list[0]\n",
    "\n",
    "print(find_first_index([i for i in range(10)]))"
   ]
  },
  {
   "cell_type": "code",
   "execution_count": 3,
   "metadata": {},
   "outputs": [
    {
     "name": "stdout",
     "output_type": "stream",
     "text": [
      "0 0\n",
      "0 1\n",
      "1 0\n",
      "1 1\n"
     ]
    },
    {
     "data": {
      "text/plain": [
       "4"
      ]
     },
     "execution_count": 3,
     "metadata": {},
     "output_type": "execute_result"
    }
   ],
   "source": [
    "def count_operations(n):\n",
    "    num_operations = 0\n",
    "    for i in range(n):\n",
    "        for j in range(n):\n",
    "            print(i,j)\n",
    "            num_operations += 1\n",
    "    return num_operations\n",
    "\n",
    "count_operations(2)"
   ]
  },
  {
   "cell_type": "code",
   "execution_count": null,
   "metadata": {},
   "outputs": [],
   "source": [
    "my_list = [2, 4, 3, 6, 7, 0]\n",
    "\n",
    "def sort_my_list(a_list): # constant space O(1)- in place algorithm\n",
    "    a_list.sort()\n",
    "\n",
    "def sort_my_list_out(a_list): # linear space O(n) -out of place algorithm\n",
    "    return sorted(a_list)\n",
    "#new list created, extra space"
   ]
  },
  {
   "cell_type": "markdown",
   "metadata": {},
   "source": [
    "## In-Place Algorithms"
   ]
  },
  {
   "cell_type": "markdown",
   "metadata": {},
   "source": [
    "#### Syntax"
   ]
  },
  {
   "cell_type": "code",
   "execution_count": 4,
   "metadata": {},
   "outputs": [],
   "source": [
    "list1 = [1, 2, 3, 4, 5, 6]\n"
   ]
  },
  {
   "cell_type": "code",
   "execution_count": 5,
   "metadata": {},
   "outputs": [
    {
     "name": "stdout",
     "output_type": "stream",
     "text": [
      "[1, 2, 3, 4, 5, 6]\n"
     ]
    },
    {
     "data": {
      "text/plain": [
       "[1, 5, 3, 4, 2, 6]"
      ]
     },
     "execution_count": 5,
     "metadata": {},
     "output_type": "execute_result"
    }
   ],
   "source": [
    "def swap(a_list, index1, index2):\n",
    "    print(a_list)\n",
    "    temp = a_list[index1]\n",
    "    a_list[index1] = a_list[index2]\n",
    "    a_list[index2] = temp\n",
    "    return a_list\n",
    "\n",
    "\n",
    "swap(list1, 1, 4)"
   ]
  },
  {
   "cell_type": "code",
   "execution_count": 6,
   "metadata": {},
   "outputs": [
    {
     "name": "stdout",
     "output_type": "stream",
     "text": [
      "Before: [1, 2, 3, 4, 5, 6]\n",
      "After: [1, 5, 3, 4, 2, 6]\n"
     ]
    }
   ],
   "source": [
    "# a_list[a], a_list[b] = a_list[b], a_list[a]\n",
    "my_list = [1, 2, 3, 4, 5, 6]\n",
    "def swap(a_list, index1, index2):\n",
    "    a_list[index1], a_list[index2] = a_list[index2], a_list[index1]\n",
    "    return a_list\n",
    "\n",
    "print('Before:', my_list)\n",
    "swap(my_list, 1, 4)\n",
    "print('After:', my_list)"
   ]
  },
  {
   "cell_type": "markdown",
   "metadata": {},
   "source": [
    "#### Out of Place Algorithm"
   ]
  },
  {
   "cell_type": "code",
   "execution_count": 9,
   "metadata": {},
   "outputs": [
    {
     "name": "stdout",
     "output_type": "stream",
     "text": [
      "Before: [1, 2, 3, 4, 5, 6]\n",
      "After: [1, 2, 3, 4, 5, 6]\n",
      "My New List: [1, 5, 3, 4, 2, 6]\n"
     ]
    }
   ],
   "source": [
    "def out_of_place_swap(a_list, index1, index2):\n",
    "    # create copy of original list\n",
    "    new_list = a_list[:]\n",
    "    # set the value at index 1 of the new list to the vaclue of index 2 of the original\n",
    "    new_list[index1] = a_list[index2]\n",
    "    # set the value at index 2 of the new list to the value of index 1 of the original\n",
    "    new_list[index2] = a_list[index1]\n",
    "    # return newly created list\n",
    "    return new_list\n",
    "\n",
    "\n",
    "my_list = [1, 2, 3, 4, 5, 6]\n",
    "\n",
    "print('Before:', my_list)\n",
    "my_new_list = out_of_place_swap(my_list, 1, 4)\n",
    "print('After:', my_list)\n",
    "print('My New List:', my_new_list)"
   ]
  },
  {
   "cell_type": "code",
   "execution_count": 6,
   "metadata": {},
   "outputs": [
    {
     "name": "stdout",
     "output_type": "stream",
     "text": [
      "Before [3, 8, 23, 6, 1, 6, 2]\n",
      "After [1, 2, 3, 6, 6, 8, 23]\n"
     ]
    }
   ],
   "source": [
    "unsorted_list = [3, 8, 23, 6, 1, 6, 2]\n",
    "\n",
    "print('Before', unsorted_list)\n",
    "unsorted_list.sort()\n",
    "print('After', unsorted_list)"
   ]
  },
  {
   "cell_type": "code",
   "execution_count": 7,
   "metadata": {},
   "outputs": [
    {
     "name": "stdout",
     "output_type": "stream",
     "text": [
      "Before [3, 8, 23, 6, 1, 6, 2]\n",
      "After [3, 8, 23, 6, 1, 6, 2]\n",
      "[1, 2, 3, 6, 6, 8, 23]\n"
     ]
    }
   ],
   "source": [
    "unsorted_list = [3, 8, 23, 6, 1, 6, 2]\n",
    "\n",
    "print('Before', unsorted_list)\n",
    "sorted_list = sorted(unsorted_list)\n",
    "print('After', unsorted_list)\n",
    "print(sorted_list)"
   ]
  },
  {
   "cell_type": "markdown",
   "metadata": {},
   "source": [
    "#### In-Class Exercise #1 <br>\n",
    "<p>Write a function that takes in four arguments (a_list, index1, index2, index3), and swaps those three positions in the list passed in.</p>"
   ]
  },
  {
   "cell_type": "code",
   "execution_count": 12,
   "metadata": {},
   "outputs": [
    {
     "data": {
      "text/plain": [
       "[7, 2, 3, 1, 5, 6, 4]"
      ]
     },
     "execution_count": 12,
     "metadata": {},
     "output_type": "execute_result"
    }
   ],
   "source": [
    "li2 = [1, 2, 3, 4, 5, 6, 7]\n",
    "def swap_again(a_list, a, b, c):\n",
    "    a_list[a], a_list[b], a_list[c] = a_list[c], a_list[a], a_list[b]\n",
    "    return a_list\n",
    "\n",
    "swap_again(li2, 0, 3, 6)"
   ]
  },
  {
   "cell_type": "markdown",
   "metadata": {},
   "source": [
    "## Two Pointers"
   ]
  },
  {
   "cell_type": "markdown",
   "metadata": {},
   "source": [
    "#### Syntax"
   ]
  },
  {
   "cell_type": "code",
   "execution_count": 15,
   "metadata": {},
   "outputs": [
    {
     "data": {
      "text/plain": [
       "[10, 9, 8, 7, 6, 5, 4, 3, 2, 1]"
      ]
     },
     "execution_count": 15,
     "metadata": {},
     "output_type": "execute_result"
    }
   ],
   "source": [
    "# in place swap method\n",
    "\n",
    "def swap_with_pointers(a_list):\n",
    "    # Create two variables to point to the index we are wanting to swap\n",
    "    left = 0 # first element in the list\n",
    "    right = len(a_list) - 1 # last element in the list\n",
    "    while left < right:\n",
    "        a_list[left], a_list[right] = a_list[right], a_list[left]\n",
    "        left += 1\n",
    "        right -= 1\n",
    "    return a_list\n",
    "\n",
    "\n",
    "my_list2 = [1, 2, 3, 4, 5, 6, 7, 8, 9, 10]\n",
    "\n",
    "swap_with_pointers(my_list2)\n",
    "\n",
    "#permanently updated new list"
   ]
  },
  {
   "cell_type": "code",
   "execution_count": 16,
   "metadata": {},
   "outputs": [
    {
     "name": "stdout",
     "output_type": "stream",
     "text": [
      "[10, 9, 8, 7, 6, 5, 4, 3, 2, 1]\n"
     ]
    }
   ],
   "source": [
    "print(my_list2)"
   ]
  },
  {
   "cell_type": "markdown",
   "metadata": {},
   "source": [
    "# Sorting Algorithms"
   ]
  },
  {
   "cell_type": "code",
   "execution_count": 23,
   "metadata": {},
   "outputs": [
    {
     "name": "stdout",
     "output_type": "stream",
     "text": [
      "[37, 24, 34, 2, 44, 30, 41, 30, 5, 48]\n"
     ]
    }
   ],
   "source": [
    "import random\n",
    "\n",
    "list_to_sort = [random.randint(1,50) for _ in range(10)]\n",
    "print(list_to_sort)"
   ]
  },
  {
   "cell_type": "markdown",
   "metadata": {},
   "source": [
    "#### Bubble Sort\n",
    "\n",
    "Worst Case: O(n^2) Time - O(1) Space"
   ]
  },
  {
   "cell_type": "code",
   "execution_count": 24,
   "metadata": {},
   "outputs": [
    {
     "data": {
      "text/plain": [
       "[2, 5, 24, 30, 30, 34, 37, 41, 44, 48]"
      ]
     },
     "execution_count": 24,
     "metadata": {},
     "output_type": "execute_result"
    }
   ],
   "source": [
    "def bubble_sort(lst):\n",
    "    # When we first start, assume the list is unsorted\n",
    "    is_sorted = False\n",
    "    # while the list is unsorted, loop through and bubble largest to top\n",
    "    while not is_sorted:\n",
    "        # Begin the for loop with the assumption that the list is sorted\n",
    "        is_sorted = True\n",
    "        for idx in range(len(lst) - 1):\n",
    "            # if the list at index idx is greater than the value to its right\n",
    "             if lst[idx] > lst[idx+1]:\n",
    "                # swap those two values\n",
    "                lst[idx], lst[idx+1] = lst[idx+1], lst[idx]\n",
    "                # if we have to to any swaps, say that our list is actually not sorted\n",
    "                is_sorted = False\n",
    "        \n",
    "    return lst\n",
    "        \n",
    "bubble_sort(list_to_sort)\n",
    "\n",
    "# Cconstant space- O(1) list has been changed.\n",
    "# O(n^2) for time."
   ]
  },
  {
   "cell_type": "markdown",
   "metadata": {},
   "source": [
    "##### Insertion Sort\n",
    "\n",
    "Worst Case: O(n^2) time - O(1)space"
   ]
  },
  {
   "cell_type": "code",
   "execution_count": 12,
   "metadata": {},
   "outputs": [
    {
     "name": "stdout",
     "output_type": "stream",
     "text": [
      "[63, 7, 78, 36, 16, 89, 61, 87, 49, 2]\n"
     ]
    }
   ],
   "source": [
    "list_to_sort = [random.randint(1,100) for _ in range(10)]\n",
    "print(list_to_sort)"
   ]
  },
  {
   "cell_type": "code",
   "execution_count": 25,
   "metadata": {},
   "outputs": [
    {
     "data": {
      "text/plain": [
       "[2, 5, 24, 30, 30, 34, 37, 41, 44, 48]"
      ]
     },
     "execution_count": 25,
     "metadata": {},
     "output_type": "execute_result"
    }
   ],
   "source": [
    "def insertion_sort(lst):\n",
    "    # Loop over the unordered section (start at 1 because 0-index is \"sorted\")\n",
    "    for i in range(1, len(lst)):\n",
    "        # While we're not at the front of the list and the element to the left is less than our element\n",
    "        while i > 0 and lst[i] < lst[i-1]:\n",
    "            # swap our element with the element to its left\n",
    "            lst[i], lst[i-1] = lst[i-1], lst[i]\n",
    "            # move our pointer left one element (to match the new swap)\n",
    "            i -= 1\n",
    "    return lst\n",
    "\n",
    "\n",
    "\n",
    "insertion_sort(list_to_sort)"
   ]
  },
  {
   "cell_type": "markdown",
   "metadata": {},
   "source": [
    "## Merge Sort"
   ]
  },
  {
   "cell_type": "code",
   "execution_count": null,
   "metadata": {},
   "outputs": [],
   "source": [
    "# O(n log n) = worst and best case\n",
    "# space complexity = O(n)\n",
    "# use python tutor"
   ]
  },
  {
   "cell_type": "markdown",
   "metadata": {},
   "source": [
    "#### How it Works"
   ]
  },
  {
   "cell_type": "code",
   "execution_count": 27,
   "metadata": {},
   "outputs": [
    {
     "name": "stdout",
     "output_type": "stream",
     "text": [
      "[38, 73, 65, 63, 68, 18, 70, 30]\n"
     ]
    }
   ],
   "source": [
    "list_to_sort = [random.randint(1,100) for _ in range(8)]\n",
    "print(list_to_sort)"
   ]
  },
  {
   "cell_type": "code",
   "execution_count": 15,
   "metadata": {},
   "outputs": [
    {
     "name": "stdout",
     "output_type": "stream",
     "text": [
      "Splitting... [11, 37, 45, 20, 77, 81, 5, 17, 32, 5]\n",
      "Splitting... [11, 37, 45, 20, 77]\n",
      "Splitting... [11, 37]\n",
      "Merging... [11]\n",
      "Merging... [37]\n",
      "Merging... [11, 37]\n",
      "Splitting... [45, 20, 77]\n",
      "Merging... [45]\n",
      "Splitting... [20, 77]\n",
      "Merging... [20]\n",
      "Merging... [77]\n",
      "Merging... [20, 77]\n",
      "Merging... [20, 45, 77]\n",
      "Merging... [11, 20, 37, 45, 77]\n",
      "Splitting... [81, 5, 17, 32, 5]\n",
      "Splitting... [81, 5]\n",
      "Merging... [81]\n",
      "Merging... [5]\n",
      "Merging... [5, 81]\n",
      "Splitting... [17, 32, 5]\n",
      "Merging... [17]\n",
      "Splitting... [32, 5]\n",
      "Merging... [32]\n",
      "Merging... [5]\n",
      "Merging... [5, 32]\n",
      "Merging... [5, 17, 32]\n",
      "Merging... [5, 5, 17, 32, 81]\n",
      "Merging... [5, 5, 11, 17, 20, 32, 37, 45, 77, 81]\n"
     ]
    },
    {
     "data": {
      "text/plain": [
       "[5, 5, 11, 17, 20, 32, 37, 45, 77, 81]"
      ]
     },
     "execution_count": 15,
     "metadata": {},
     "output_type": "execute_result"
    }
   ],
   "source": [
    "def merge_sort(lst):\n",
    "    # if list is longer than 1 element, split list\n",
    "    if len(lst) > 1:\n",
    "        # Find the midway point of the list\n",
    "        mid = len(lst) // 2\n",
    "        # slice list from beginning to midway point\n",
    "        print('Splitting...', lst)\n",
    "        left_half = lst[:mid]\n",
    "        right_half = lst[mid:]\n",
    "        \n",
    "        # recursively call merge_sort on left half of lst\n",
    "        merge_sort(left_half)\n",
    "        # once left half has finished its execution, call merge_sort on right half\n",
    "        merge_sort(right_half)\n",
    "        \n",
    "        #merge left and right half back into main list using pointers\n",
    "        # index pointers for our lists\n",
    "        l = 0 # pointer for left half list\n",
    "        r = 0 # pointer for right half list\n",
    "        m = 0 # pointer for main list\n",
    "        \n",
    "        # while left and right pointers are still pointing at valid indices\n",
    "        \n",
    "        while l < len(left_half) and r < len(right_half):\n",
    "            #if element in left list is less than element in right list\n",
    "            if left_half[l] < right_half[r]:\n",
    "                # place left element in the main list\n",
    "                lst[m] = left_half[l]\n",
    "                # move the left list pointer to the right one element\n",
    "                l += 1\n",
    "                # if the element in the right list is less than the element in the left list\n",
    "            else:\n",
    "                # place the right list element in the main list\n",
    "                lst[m] = right_half[r]\n",
    "                # move the right list pointer to the right one element\n",
    "                r += 1\n",
    "            # either way, always move the main pointer to the right one element   \n",
    "            m += 1\n",
    "            \n",
    "        # if the right list is exhausted, fill the main list with the rest of the sorted left half\n",
    "        while l < len(left_half):\n",
    "            lst[m] = left_half[l]\n",
    "            l += 1\n",
    "            m += 1\n",
    "        \n",
    "        # if the left list is exhauted, fill the main list with the rest of the sorted right half\n",
    "        while r < len(right_half):\n",
    "            lst[m] = right_half[r]\n",
    "            r += 1\n",
    "            m += 1\n",
    "        \n",
    "    print('Merging...', lst)\n",
    "    return lst\n",
    "\n",
    "\n",
    "merge_sort(list_to_sort)"
   ]
  },
  {
   "cell_type": "markdown",
   "metadata": {},
   "source": [
    "# Binary Search\n",
    "\n",
    "The Binary Search algorithm works by finding the number in the middle of a given array and comparing it to the target. **Given that the array is sorted** - must be sorted for it to work\n",
    "\n",
    "* The worst case run time for this algorithm is `O(log(n))`"
   ]
  },
  {
   "cell_type": "code",
   "execution_count": 28,
   "metadata": {},
   "outputs": [
    {
     "data": {
      "text/plain": [
       "'The index for 44 is 4'"
      ]
     },
     "execution_count": 28,
     "metadata": {},
     "output_type": "execute_result"
    }
   ],
   "source": [
    "# Less == Left\n",
    "# Greater == Right\n",
    "# List of numbers MUST be sorted\n",
    "\n",
    "def binary_search(lst, target):\n",
    "    low = 0 \n",
    "    high = len(lst) - 1 # highest index of list\n",
    "    \n",
    "    # while value of low pointer is less than or equal to high pointer \n",
    "    while low <= high:\n",
    "        mid = (low + high) // 2\n",
    "        if target == lst[mid]:\n",
    "            return f\"The index for {target} is {mid}\"\n",
    "        elif target < lst[mid]:\n",
    "            high = mid - 1\n",
    "        else:\n",
    "            low = mid + 1\n",
    "    return -1\n",
    "\n",
    "\n",
    "binary_search([13, 20, 33, 38, 44, 56, 77, 98], 44)"
   ]
  },
  {
   "cell_type": "markdown",
   "metadata": {},
   "source": [
    "# Exercises"
   ]
  },
  {
   "cell_type": "markdown",
   "metadata": {},
   "source": [
    "### Exercise #1 <br>\n",
    "<p>Reverse the list below in-place using an in-place algorithm.<br>For extra credit: Reverse the strings at the same time.</p>"
   ]
  },
  {
   "cell_type": "code",
   "execution_count": 37,
   "metadata": {},
   "outputs": [
    {
     "data": {
      "text/plain": [
       "['.', 'sentence', 'a', 'is', 'this']"
      ]
     },
     "execution_count": 37,
     "metadata": {},
     "output_type": "execute_result"
    }
   ],
   "source": [
    "words = ['this' , 'is', 'a', 'sentence', '.']\n",
    "\n",
    "def swap_me(a_list):\n",
    "    left = 0 \n",
    "    right = len(a_list) - 1 \n",
    "    while left < right:\n",
    "        a_list[left], a_list[right] = a_list[right], a_list[left]\n",
    "        left += 1\n",
    "        right -= 1\n",
    "    return a_list\n",
    "\n",
    "swap_me(words)"
   ]
  },
  {
   "cell_type": "markdown",
   "metadata": {},
   "source": [
    "### Exercise #2 <br>\n",
    "<p>Create a function that counts how many distinct words are in the string below, then outputs a dictionary with the words as the key and the value as the amount of times that word appears in the string.</p>\n",
    "Example Output:<code>{'in': 1, 'computing': 1, 'a': 5, ...}</code> can be done in linear fashion, does not need nested for loop."
   ]
  },
  {
   "cell_type": "code",
   "execution_count": 75,
   "metadata": {},
   "outputs": [
    {
     "data": {
      "text/plain": [
       "{'In': 1,\n",
       " 'computing,': 1,\n",
       " 'a': 32,\n",
       " 'hash': 4,\n",
       " 'table': 2,\n",
       " 'map': 2,\n",
       " 'is': 1,\n",
       " 'data': 2,\n",
       " 'structure': 2,\n",
       " 'which': 2,\n",
       " 'implements': 1,\n",
       " 'an': 5,\n",
       " 'associative': 1,\n",
       " 'array': 2,\n",
       " 'abstract': 1,\n",
       " 'type,': 1,\n",
       " 'that': 1,\n",
       " 'can': 2,\n",
       " 'keys': 1,\n",
       " 'to': 3,\n",
       " 'values.': 1,\n",
       " 'A': 1,\n",
       " 'uses': 1,\n",
       " 'function': 1,\n",
       " 'compute': 1,\n",
       " 'index': 1,\n",
       " 'into': 1,\n",
       " 'of': 1,\n",
       " 'buckets': 1,\n",
       " 'or': 1,\n",
       " 'slots': 1,\n",
       " 'from': 1,\n",
       " 'the': 1,\n",
       " 'desired': 1,\n",
       " 'value': 2,\n",
       " 'be': 1,\n",
       " 'found': 1}"
      ]
     },
     "execution_count": 75,
     "metadata": {},
     "output_type": "execute_result"
    }
   ],
   "source": [
    "a_text = '''In computing, a hash table hash map is a data structure \n",
    "which implements an associative array abstract data type, a structure that can map keys to values. \n",
    "A hash table uses a hash function to compute an index into an array of buckets or \n",
    "slots from which the desired value can be found'''\n",
    "\n",
    "def word_count(str):\n",
    "    return {i: str.count(i) for i in str.split()}\n",
    "word_count(a_text)"
   ]
  },
  {
   "cell_type": "markdown",
   "metadata": {},
   "source": [
    "## Exercise #3\n",
    "\n",
    "Write a function implementing a Linear Search Algorithm. A linear search is a method for finding an element within a list. It sequentially checks each element of the list until a match is found or the whole list has been searched. If you do not find a match, return -1"
   ]
  },
  {
   "cell_type": "code",
   "execution_count": 38,
   "metadata": {},
   "outputs": [
    {
     "data": {
      "text/plain": [
       "70"
      ]
     },
     "execution_count": 38,
     "metadata": {},
     "output_type": "execute_result"
    }
   ],
   "source": [
    "nums_list = [10,23,45,70,11,15]\n",
    "target = 70\n",
    "\n",
    "def find_num():\n",
    "    for i in nums_list:\n",
    "        if target in nums_list:\n",
    "            return target\n",
    "        else:\n",
    "            return -1\n",
    "find_num()\n",
    "# if target in nums_list\n",
    "# If number is not present return -1\n",
    "# can use for loop"
   ]
  },
  {
   "cell_type": "code",
   "execution_count": 42,
   "metadata": {},
   "outputs": [
    {
     "data": {
      "text/plain": [
       "3"
      ]
     },
     "execution_count": 42,
     "metadata": {},
     "output_type": "execute_result"
    }
   ],
   "source": [
    "# def lin_search(l2, value):\n",
    "#     index = 0\n",
    "#     while (index< len(l2) and l2[index] < value):\n",
    "#         index += 1\n",
    "#     if (index >= len(l2) or l2[index] != value):\n",
    "#         return -1\n",
    "#     return index\n",
    "# lin_search(nums_list, target)"
   ]
  },
  {
   "cell_type": "code",
   "execution_count": null,
   "metadata": {},
   "outputs": [],
   "source": []
  }
 ],
 "metadata": {
  "kernelspec": {
   "display_name": "Python 3 (ipykernel)",
   "language": "python",
   "name": "python3"
  },
  "language_info": {
   "codemirror_mode": {
    "name": "ipython",
    "version": 3
   },
   "file_extension": ".py",
   "mimetype": "text/x-python",
   "name": "python",
   "nbconvert_exporter": "python",
   "pygments_lexer": "ipython3",
   "version": "3.9.12"
  }
 },
 "nbformat": 4,
 "nbformat_minor": 2
}
